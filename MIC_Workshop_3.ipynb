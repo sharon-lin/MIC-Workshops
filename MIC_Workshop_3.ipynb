{
  "nbformat": 4,
  "nbformat_minor": 0,
  "metadata": {
    "colab": {
      "name": "MIC Workshop 3.ipynb",
      "version": "0.3.2",
      "provenance": [],
      "collapsed_sections": [],
      "include_colab_link": true
    },
    "kernelspec": {
      "name": "python3",
      "display_name": "Python 3"
    },
    "accelerator": "GPU"
  },
  "cells": [
    {
      "cell_type": "markdown",
      "metadata": {
        "id": "view-in-github",
        "colab_type": "text"
      },
      "source": [
        "<a href=\"https://colab.research.google.com/github/sharon-lin/ML-notebooks/blob/master/MIC_Workshop_3.ipynb\" target=\"_parent\"><img src=\"https://colab.research.google.com/assets/colab-badge.svg\" alt=\"Open In Colab\"/></a>"
      ]
    },
    {
      "metadata": {
        "id": "puVe038zOci0",
        "colab_type": "text"
      },
      "cell_type": "markdown",
      "source": [
        "# MIC Workshop 3: Convolutional Neural Networks\n"
      ]
    },
    {
      "metadata": {
        "id": "RNrL3aTpywZr",
        "colab_type": "text"
      },
      "cell_type": "markdown",
      "source": [
        "## Background\n",
        "Hope you're enjoying the first Deep Learning workshop so far! For these workshops, we'll typically use Google Colab, an online coding environment. This is so that we don't have to worry about installing all of the libraries on everyone's different computers. \n",
        "\n",
        "_____\n",
        "You're now working in a Notebook. Notebooks have **cells**, each of which can be run by hitting Shift+Enter. Try it on the cell below!\n",
        "\n",
        "_You will see the output of the particular cell right below it_"
      ]
    },
    {
      "metadata": {
        "id": "LIU7z14RW_Nu",
        "colab_type": "code",
        "outputId": "d77607b8-9bbc-4577-8d84-22539e58a020",
        "colab": {
          "base_uri": "https://localhost:8080/",
          "height": 34
        }
      },
      "cell_type": "code",
      "source": [
        "print(\"Notebooks are so much fun!!1!\")"
      ],
      "execution_count": 0,
      "outputs": [
        {
          "output_type": "stream",
          "text": [
            "Notebooks are so much fun!!1!\n"
          ],
          "name": "stdout"
        }
      ]
    },
    {
      "metadata": {
        "id": "k_aTLc1qWA0_",
        "colab_type": "text"
      },
      "cell_type": "markdown",
      "source": [
        "In general, notebooks are a very suitable tool for machine learning/data science. We would also recommend trying [Jupyter Notebook](https://jupyter.org/install) if you haven't already\n",
        "\n",
        "_For later workshops, we might opt out for a more involved environment like Docker in case we want to do anything fancier_\n",
        "____\n",
        "## Installing PyTorch\n",
        "Don't worry too much about the contents of this cell. It basically just installs the right packages for you to run PyTorch code\n",
        "\n",
        "If this cell is causing problems for you (like `tcmalloc`,  make sure you click \"connect to Hosted runtime\" from the dropdown menu in the top right)"
      ]
    },
    {
      "metadata": {
        "id": "R8Py3s1cyheZ",
        "colab_type": "code",
        "colab": {
          "base_uri": "https://localhost:8080/",
          "height": 68
        },
        "outputId": "e83765ea-7c19-4b39-e31d-0530d37bb8b2"
      },
      "cell_type": "code",
      "source": [
        "# Installing pytorch, don't worry about the code in this cell. \n",
        "# http://pytorch.org/\n",
        "from os.path import exists\n",
        "from wheel.pep425tags import get_abbr_impl, get_impl_ver, get_abi_tag\n",
        "platform = '{}{}-{}'.format(get_abbr_impl(), get_impl_ver(), get_abi_tag())\n",
        "cuda_output = !ldconfig -p|grep cudart.so|sed -e 's/.*\\.\\([0-9]*\\)\\.\\([0-9]*\\)$/cu\\1\\2/'\n",
        "accelerator = 'cpu' #cuda_output[0] if exists('/dev/nvidia0')\n",
        "\n",
        "!pip install -q http://download.pytorch.org/whl/{accelerator}/torch-0.4.1-{platform}-linux_x86_64.whl torchvision"
      ],
      "execution_count": 1,
      "outputs": [
        {
          "output_type": "stream",
          "text": [
            "\u001b[K    100% |████████████████████████████████| 91.1MB 92.5MB/s \n",
            "\u001b[31mfastai 1.0.46 has requirement numpy>=1.15, but you'll have numpy 1.14.6 which is incompatible.\u001b[0m\n",
            "\u001b[31mfastai 1.0.46 has requirement torch>=1.0.0, but you'll have torch 0.4.1 which is incompatible.\u001b[0m\n",
            "\u001b[?25h"
          ],
          "name": "stdout"
        }
      ]
    },
    {
      "metadata": {
        "id": "z5uA34JPXxwx",
        "colab_type": "text"
      },
      "cell_type": "markdown",
      "source": [
        "## Imports\n",
        "PyTorch is really convenient because it has a lot of useful classes for us. Here are some examples:\n",
        "* `torch.nn`: A neural network class\n",
        "* `torch.utils.data`: Torch comes with preinstalled datasets so we don't need to handle them ourselves\n",
        "* `torchvision`: A class holding useful image based models\n"
      ]
    },
    {
      "metadata": {
        "id": "cINAuUlXx_tM",
        "colab_type": "code",
        "colab": {}
      },
      "cell_type": "code",
      "source": [
        "import os\n",
        "import torch\n",
        "import torch.nn as nn\n",
        "import torch.utils.data as Data\n",
        "import torchvision\n",
        "import matplotlib.pyplot as plt"
      ],
      "execution_count": 0,
      "outputs": []
    },
    {
      "metadata": {
        "id": "M_GDBMKE7jAW",
        "colab_type": "text"
      },
      "cell_type": "markdown",
      "source": [
        "# The Data\n",
        "For this lab, we will revisit of the most (if not the most) popular datasets for machine learning - [MNIST](http://yann.lecun.com/exdb/mnist/). It is very accessible and is (was) used commonly used as a benchmark in academic literature. In this lab, we will use torchvision to import the dataset instead of the main pytorch library. \n",
        "\n",
        "You don't need to worry about the format too much now. But in general, getting the data in the necessary format is usually a key (albeit mundane) part of the process. "
      ]
    },
    {
      "metadata": {
        "id": "BSo3U9TrMXLU",
        "colab_type": "code",
        "outputId": "cf22f956-6fa1-428c-886f-16b3e5fb9ae5",
        "colab": {
          "base_uri": "https://localhost:8080/",
          "height": 255
        }
      },
      "cell_type": "code",
      "source": [
        "## load mnist dataset\n",
        "\n",
        "if not(os.path.exists('./mnist/')) or not os.listdir('./mnist/'):\n",
        "    # not mnist dir or mnist is empyt dir\n",
        "    DOWNLOAD_MNIST = True\n",
        "\n",
        "train_data = torchvision.datasets.MNIST(\n",
        "    root='./mnist/',\n",
        "    train=True,                                     \n",
        "    transform=torchvision.transforms.ToTensor(),\n",
        "    download=DOWNLOAD_MNIST,\n",
        ")\n"
      ],
      "execution_count": 4,
      "outputs": [
        {
          "output_type": "stream",
          "text": [
            "\r0it [00:00, ?it/s]"
          ],
          "name": "stderr"
        },
        {
          "output_type": "stream",
          "text": [
            "Downloading http://yann.lecun.com/exdb/mnist/train-images-idx3-ubyte.gz to ./mnist/MNIST/raw/train-images-idx3-ubyte.gz\n"
          ],
          "name": "stdout"
        },
        {
          "output_type": "stream",
          "text": [
            "9920512it [00:02, 3630806.64it/s]                             \n"
          ],
          "name": "stderr"
        },
        {
          "output_type": "stream",
          "text": [
            "Extracting ./mnist/MNIST/raw/train-images-idx3-ubyte.gz\n"
          ],
          "name": "stdout"
        },
        {
          "output_type": "stream",
          "text": [
            "\r0it [00:00, ?it/s]"
          ],
          "name": "stderr"
        },
        {
          "output_type": "stream",
          "text": [
            "Downloading http://yann.lecun.com/exdb/mnist/train-labels-idx1-ubyte.gz to ./mnist/MNIST/raw/train-labels-idx1-ubyte.gz\n"
          ],
          "name": "stdout"
        },
        {
          "output_type": "stream",
          "text": [
            "32768it [00:00, 57203.76it/s]                           \n",
            "0it [00:00, ?it/s]"
          ],
          "name": "stderr"
        },
        {
          "output_type": "stream",
          "text": [
            "Extracting ./mnist/MNIST/raw/train-labels-idx1-ubyte.gz\n",
            "Downloading http://yann.lecun.com/exdb/mnist/t10k-images-idx3-ubyte.gz to ./mnist/MNIST/raw/t10k-images-idx3-ubyte.gz\n"
          ],
          "name": "stdout"
        },
        {
          "output_type": "stream",
          "text": [
            "1654784it [00:01, 955140.79it/s]                             \n",
            "0it [00:00, ?it/s]"
          ],
          "name": "stderr"
        },
        {
          "output_type": "stream",
          "text": [
            "Extracting ./mnist/MNIST/raw/t10k-images-idx3-ubyte.gz\n",
            "Downloading http://yann.lecun.com/exdb/mnist/t10k-labels-idx1-ubyte.gz to ./mnist/MNIST/raw/t10k-labels-idx1-ubyte.gz\n"
          ],
          "name": "stdout"
        },
        {
          "output_type": "stream",
          "text": [
            "8192it [00:00, 21235.26it/s]            "
          ],
          "name": "stderr"
        },
        {
          "output_type": "stream",
          "text": [
            "Extracting ./mnist/MNIST/raw/t10k-labels-idx1-ubyte.gz\n",
            "Processing...\n",
            "Done!\n"
          ],
          "name": "stdout"
        },
        {
          "output_type": "stream",
          "text": [
            "\n"
          ],
          "name": "stderr"
        }
      ]
    },
    {
      "metadata": {
        "id": "pU9_-ocUGwrT",
        "colab_type": "text"
      },
      "cell_type": "markdown",
      "source": [
        "We're going to make batches of size 50, and sample them at a rate of 2000 for the purpose of faster training. Torch has `DataLoader` classes, which are used to load batches at a time in a (somewhat) optimized fashion\n",
        "\n",
        "_Also, we're going to only make train and test datasets (no validation) to keep things simple today._"
      ]
    },
    {
      "metadata": {
        "id": "ieDHUse3VyFv",
        "colab_type": "text"
      },
      "cell_type": "markdown",
      "source": [
        "## Task 1: Modify Batch Size and Sample Size"
      ]
    },
    {
      "metadata": {
        "id": "haZsfH0VTQuQ",
        "colab_type": "code",
        "colab": {}
      },
      "cell_type": "code",
      "source": [
        "BATCH_SIZE = 50\n",
        "SAMPLE_SIZE = 2000\n"
      ],
      "execution_count": 0,
      "outputs": []
    },
    {
      "metadata": {
        "id": "L7ThMwuAMcvt",
        "colab_type": "code",
        "colab": {
          "base_uri": "https://localhost:8080/",
          "height": 85
        },
        "outputId": "133ae49f-b5e7-4c89-cf63-d6a5189b9016"
      },
      "cell_type": "code",
      "source": [
        "train_data = torchvision.datasets.MNIST(\n",
        "    root='./mnist/',\n",
        "    train=True,                                     \n",
        "    transform=torchvision.transforms.ToTensor(),\n",
        "    download=DOWNLOAD_MNIST,\n",
        ")\n",
        "\n",
        "train_loader = Data.DataLoader(dataset=train_data, batch_size=BATCH_SIZE, shuffle=True)\n",
        "\n",
        "test_data = torchvision.datasets.MNIST(root='./mnist/', train=False)\n",
        "test_x = torch.unsqueeze(test_data.test_data, dim=1).type(torch.FloatTensor)[:SAMPLE_SIZE]/255.\n",
        "test_y = test_data.test_labels[:SAMPLE_SIZE]"
      ],
      "execution_count": 6,
      "outputs": [
        {
          "output_type": "stream",
          "text": [
            "/usr/local/lib/python3.6/dist-packages/torchvision/datasets/mnist.py:58: UserWarning: test_data has been renamed data\n",
            "  warnings.warn(\"test_data has been renamed data\")\n",
            "/usr/local/lib/python3.6/dist-packages/torchvision/datasets/mnist.py:48: UserWarning: test_labels has been renamed targets\n",
            "  warnings.warn(\"test_labels has been renamed targets\")\n"
          ],
          "name": "stderr"
        }
      ]
    },
    {
      "metadata": {
        "id": "dvU1Z7XIMg3Q",
        "colab_type": "code",
        "outputId": "10f8c386-8404-4ce9-ee5b-aaac7301da8e",
        "colab": {
          "base_uri": "https://localhost:8080/",
          "height": 51
        }
      },
      "cell_type": "code",
      "source": [
        "print ('total number of trainning batches: {}'.format(len(train_loader)))\n",
        "print ('total number of testing batches: {}'.format(len(test_data)))"
      ],
      "execution_count": 7,
      "outputs": [
        {
          "output_type": "stream",
          "text": [
            "total number of trainning batches: 1200\n",
            "total number of testing batches: 10000\n"
          ],
          "name": "stdout"
        }
      ]
    },
    {
      "metadata": {
        "id": "ekbLTsGFt4Ya",
        "colab_type": "text"
      },
      "cell_type": "markdown",
      "source": [
        "## The Model\n",
        "Below is a `ANNModel` class, which will use the parameters you just defined (such as the **input dimension**) in order to construct a neural network of the correct size. Read through the class to see if you can understand what each line is doing!"
      ]
    },
    {
      "metadata": {
        "id": "0EoQ6zV9V79D",
        "colab_type": "text"
      },
      "cell_type": "markdown",
      "source": [
        "## Task 2: Add at least 1 Conv2D Layer to CNN and adjust convolution parameters"
      ]
    },
    {
      "metadata": {
        "id": "Ad9uIvIbL_U6",
        "colab_type": "code",
        "colab": {}
      },
      "cell_type": "code",
      "source": [
        "class CNN(nn.Module):\n",
        "    def __init__(self):\n",
        "        super(CNN, self).__init__()\n",
        "        self.conv1 = nn.Sequential(\n",
        "            nn.Conv2d(\n",
        "                in_channels=1,              # input height\n",
        "                out_channels=1,            # n_filters\n",
        "                kernel_size=5,              # filter size\n",
        "                stride=1,                   # filter movement/step\n",
        "                padding=2,                  # if want same width and length of this image after con2d, padding=(kernel_size-1)/2 if stride=1\n",
        "            ),                              \n",
        "            nn.ReLU(),                      # activation\n",
        "            nn.MaxPool2d(kernel_size=2),    # choose max value in 2x2 area,\n",
        "        )\n",
        "        self.conv2 = nn.Sequential(\n",
        "            nn.Conv2d(\n",
        "                in_channels= 1,\n",
        "                out_channels= 1,\n",
        "                kernel_size= 5,\n",
        "                stride= 1,\n",
        "                padding= 2,\n",
        "            ),\n",
        "            nn.ReLU(),\n",
        "            nn.MaxPool2d(kernel_size=5),\n",
        "        )\n",
        "        self.out = nn.Linear(in_features=4, out_features=50)\n",
        "\n",
        "    def forward(self, x):\n",
        "        x = self.conv1(x)\n",
        "        x = self.conv2(x)\n",
        "        x = x.view(x.size(0), -1)\n",
        "        output = self.out(x)\n",
        "        return output, x\n",
        "\n",
        "# Create CNN\n",
        "cnn = CNN()"
      ],
      "execution_count": 0,
      "outputs": []
    },
    {
      "metadata": {
        "id": "kokvVHwcuHEC",
        "colab_type": "text"
      },
      "cell_type": "markdown",
      "source": [
        "## The Loss Function\n",
        "For this task, since we are doing classification, we will use Cross Entropy loss. It's the most common loss function for Classification tasks. You can read more about Cross Entropy Loss [here](https://en.wikipedia.org/wiki/Cross_entropy)"
      ]
    },
    {
      "metadata": {
        "id": "1fr61T6HQXP1",
        "colab_type": "code",
        "colab": {}
      },
      "cell_type": "code",
      "source": [
        "error = nn.CrossEntropyLoss() "
      ],
      "execution_count": 0,
      "outputs": []
    },
    {
      "metadata": {
        "id": "KQB_SKrvuWim",
        "colab_type": "text"
      },
      "cell_type": "markdown",
      "source": [
        "## The Optimizer\n",
        "For this task, we will use one of the simplest optimizers, Stochastic Gradient Descent (SGD). Here's the `PyTorch` code to setup our model with SGD."
      ]
    },
    {
      "metadata": {
        "id": "5xj-T93tWGlM",
        "colab_type": "text"
      },
      "cell_type": "markdown",
      "source": [
        "## Task 3: Modify Learning Rate"
      ]
    },
    {
      "metadata": {
        "id": "UcksAhaquXSi",
        "colab_type": "code",
        "colab": {}
      },
      "cell_type": "code",
      "source": [
        "learning_rate = 4\n",
        "optimizer = torch.optim.Adam(cnn.parameters(), lr=learning_rate)"
      ],
      "execution_count": 0,
      "outputs": []
    },
    {
      "metadata": {
        "id": "a33bzZSKuhlO",
        "colab_type": "text"
      },
      "cell_type": "markdown",
      "source": [
        "## The Training\n",
        "The last step of our training pipeline is the training itself! For training, we have to choose hyperparameters like:\n",
        "* `batch_size` (already defined)\n",
        "* `num_epochs`: The number of laps through the data we should complete\n",
        "* The loss function: What should the model optimize _for_?\n",
        "* `optimizer`: How should the model change its parameters to minimze the loss?\n",
        "* `learning_rate`: How big of steps should the model take when descending?"
      ]
    },
    {
      "metadata": {
        "id": "DYF6TAwcWKZ9",
        "colab_type": "text"
      },
      "cell_type": "markdown",
      "source": [
        "## Task 4: Modify Number of Epochs"
      ]
    },
    {
      "metadata": {
        "id": "wqogPJeNVRlW",
        "colab_type": "code",
        "colab": {}
      },
      "cell_type": "code",
      "source": [
        "NUM_EPOCH = 1"
      ],
      "execution_count": 0,
      "outputs": []
    },
    {
      "metadata": {
        "id": "desQ-ukrMqf1",
        "colab_type": "code",
        "outputId": "b29a6670-29ce-473d-a82f-e96ef3ef1c21",
        "colab": {
          "base_uri": "https://localhost:8080/",
          "height": 425
        }
      },
      "cell_type": "code",
      "source": [
        "COUNT = 0 \n",
        "loss_list = []\n",
        "iteration_list = []\n",
        "accuracy_list = []\n",
        "for epoch in range(NUM_EPOCH):\n",
        "    for step, (b_x, b_y) in enumerate(train_loader):   # gives batch data, normalize x when iterate train_loader\n",
        "        \n",
        "        COUNT += 1 \n",
        "\n",
        "        output = cnn(b_x)[0]            # cnn output\n",
        "        loss = error(output, b_y)       # cross entropy loss\n",
        "        optimizer.zero_grad()           # clear gradients for this training step\n",
        "        loss.backward()                 # backpropagation, compute gradients\n",
        "        optimizer.step()                # apply gradients\n",
        "\n",
        "        if step % 50 == 0:\n",
        "            test_output, last_layer = cnn(test_x)\n",
        "            pred_y = torch.max(test_output, 1)[1].data.squeeze().numpy()\n",
        "            accuracy = float((pred_y == test_y.data.numpy()).astype(int).sum()) / float(test_y.size(0))\n",
        "            \n",
        "            loss_list.append(loss.data)\n",
        "            iteration_list.append(COUNT)\n",
        "            accuracy_list.append(accuracy)\n",
        "            \n",
        "            print('Epoch: ', epoch, '| train loss: %.4f' % loss.data.numpy(), '| test accuracy: %.2f' % accuracy)"
      ],
      "execution_count": 35,
      "outputs": [
        {
          "output_type": "stream",
          "text": [
            "Epoch:  0 | train loss: 4.0722 | test accuracy: 0.11\n",
            "Epoch:  0 | train loss: 2.4308 | test accuracy: 0.10\n",
            "Epoch:  0 | train loss: 2.6134 | test accuracy: 0.09\n",
            "Epoch:  0 | train loss: 2.7749 | test accuracy: 0.12\n",
            "Epoch:  0 | train loss: 2.4880 | test accuracy: 0.10\n",
            "Epoch:  0 | train loss: 2.6091 | test accuracy: 0.10\n",
            "Epoch:  0 | train loss: 2.6494 | test accuracy: 0.11\n",
            "Epoch:  0 | train loss: 2.6418 | test accuracy: 0.11\n",
            "Epoch:  0 | train loss: 2.4761 | test accuracy: 0.11\n",
            "Epoch:  0 | train loss: 2.4220 | test accuracy: 0.09\n",
            "Epoch:  0 | train loss: 2.5766 | test accuracy: 0.10\n",
            "Epoch:  0 | train loss: 2.5828 | test accuracy: 0.09\n",
            "Epoch:  0 | train loss: 2.4555 | test accuracy: 0.12\n",
            "Epoch:  0 | train loss: 2.8259 | test accuracy: 0.11\n",
            "Epoch:  0 | train loss: 2.5263 | test accuracy: 0.10\n",
            "Epoch:  0 | train loss: 2.5382 | test accuracy: 0.09\n",
            "Epoch:  0 | train loss: 2.9078 | test accuracy: 0.10\n",
            "Epoch:  0 | train loss: 2.5633 | test accuracy: 0.09\n",
            "Epoch:  0 | train loss: 2.6955 | test accuracy: 0.11\n",
            "Epoch:  0 | train loss: 2.6098 | test accuracy: 0.12\n",
            "Epoch:  0 | train loss: 2.7593 | test accuracy: 0.10\n",
            "Epoch:  0 | train loss: 2.5302 | test accuracy: 0.10\n",
            "Epoch:  0 | train loss: 2.5008 | test accuracy: 0.09\n",
            "Epoch:  0 | train loss: 2.8412 | test accuracy: 0.12\n"
          ],
          "name": "stdout"
        }
      ]
    },
    {
      "metadata": {
        "id": "QiWVVpAMMzA8",
        "colab_type": "code",
        "outputId": "f89ca3d2-a3f7-42cc-8cc8-a31167826022",
        "colab": {
          "base_uri": "https://localhost:8080/",
          "height": 705
        }
      },
      "cell_type": "code",
      "source": [
        "# visualization loss \n",
        "plt.plot(iteration_list,loss_list)\n",
        "plt.xlabel(\"Number of iterations\")\n",
        "plt.ylabel(\"Loss\")\n",
        "plt.show()\n",
        "\n",
        "# visualization accuracy \n",
        "plt.plot(iteration_list,accuracy_list,color = \"red\")\n",
        "plt.xlabel(\"Number of iterations\")\n",
        "plt.ylabel(\"Accuracy\")\n",
        "plt.show()"
      ],
      "execution_count": 36,
      "outputs": [
        {
          "output_type": "display_data",
          "data": {
            "image/png": "[encoded data removed]",
            "text/plain": [
              "<Figure size 576x396 with 1 Axes>"
            ]
          },
          "metadata": {
            "tags": []
          }
        },
        {
          "output_type": "display_data",
          "data": {
            "image/png": "[encoded data removed]",
            "text/plain": [
              "<Figure size 576x396 with 1 Axes>"
            ]
          },
          "metadata": {
            "tags": []
          }
        }
      ]
    },
    {
      "metadata": {
        "id": "NfAJA3-x_tAq",
        "colab_type": "code",
        "outputId": "ebb57c61-f448-49da-bba1-82f15878ef83",
        "colab": {
          "base_uri": "https://localhost:8080/",
          "height": 51
        }
      },
      "cell_type": "code",
      "source": [
        "NUM_PREDICTIONS = 10\n",
        "test_output, _ = cnn(test_x[:NUM_PREDICTIONS])\n",
        "pred_y = torch.max(test_output, 1)[1].data.numpy().squeeze()\n",
        "print(pred_y, 'prediction number')\n",
        "print(test_y[:NUM_PREDICTIONS].numpy(), 'real number')"
      ],
      "execution_count": 37,
      "outputs": [
        {
          "output_type": "stream",
          "text": [
            "[8 8 8 8 8 8 8 8 8 8] prediction number\n",
            "[7 2 1 0 4 1 4 9 5 9] real number\n"
          ],
          "name": "stdout"
        }
      ]
    },
    {
      "metadata": {
        "id": "CTv880Mfw1_D",
        "colab_type": "text"
      },
      "cell_type": "markdown",
      "source": [
        "## PLEASE FILL OUT THIS FORM\n",
        "https://goo.gl/forms/5tKNEPAfdzBQWTNi2"
      ]
    }
  ]
}